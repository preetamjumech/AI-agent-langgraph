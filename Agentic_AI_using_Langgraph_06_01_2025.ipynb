{
  "nbformat": 4,
  "nbformat_minor": 0,
  "metadata": {
    "colab": {
      "provenance": [],
      "authorship_tag": "ABX9TyMlybGN4DaXBndWN+pMPKsq",
      "include_colab_link": true
    },
    "kernelspec": {
      "name": "python3",
      "display_name": "Python 3"
    },
    "language_info": {
      "name": "python"
    }
  },
  "cells": [
    {
      "cell_type": "markdown",
      "metadata": {
        "id": "view-in-github",
        "colab_type": "text"
      },
      "source": [
        "<a href=\"https://colab.research.google.com/github/preetamjumech/AI-agent-langgraph/blob/main/Agentic_AI_using_Langgraph_06_01_2025.ipynb\" target=\"_parent\"><img src=\"https://colab.research.google.com/assets/colab-badge.svg\" alt=\"Open In Colab\"/></a>"
      ]
    },
    {
      "cell_type": "code",
      "execution_count": 5,
      "metadata": {
        "colab": {
          "base_uri": "https://localhost:8080/"
        },
        "collapsed": true,
        "id": "MtASuJGvxMw8",
        "outputId": "e61c86ee-20e2-4255-baa5-923869ba7ece"
      },
      "outputs": [
        {
          "output_type": "stream",
          "name": "stdout",
          "text": [
            "\u001b[?25l   \u001b[90m━━━━━━━━━━━━━━━━━━━━━━━━━━━━━━━━━━━━━━━━\u001b[0m \u001b[32m0.0/109.1 kB\u001b[0m \u001b[31m?\u001b[0m eta \u001b[36m-:--:--\u001b[0m\r\u001b[2K   \u001b[90m━━━━━━━━━━━━━━━━━━━━━━━━━━━━━━━━━━━━━━━━\u001b[0m \u001b[32m109.1/109.1 kB\u001b[0m \u001b[31m4.4 MB/s\u001b[0m eta \u001b[36m0:00:00\u001b[0m\n",
            "\u001b[?25h"
          ]
        }
      ],
      "source": [
        "!pip install langgraph langchain langchain_community langchainhub langchain-groq -q"
      ]
    },
    {
      "cell_type": "code",
      "source": [
        "from google.colab import userdata\n",
        "GROQ_API_KEY = userdata.get('GROQ_API_KEY')"
      ],
      "metadata": {
        "id": "xbj3tpEbyleq"
      },
      "execution_count": 7,
      "outputs": []
    },
    {
      "cell_type": "code",
      "source": [
        "from langgraph.graph import Graph\n",
        "from langchain_groq import ChatGroq"
      ],
      "metadata": {
        "id": "cZTlVbdXzGlU"
      },
      "execution_count": 8,
      "outputs": []
    },
    {
      "cell_type": "code",
      "source": [
        "llm = ChatGroq(api_key = GROQ_API_KEY, model = \"llama3-70b-8192\")"
      ],
      "metadata": {
        "id": "Z9nwfIwpzGoP"
      },
      "execution_count": 11,
      "outputs": []
    },
    {
      "cell_type": "code",
      "source": [
        "response = llm.invoke(\"What is the challenges of production based generative ai?\").content\n",
        "print(response)"
      ],
      "metadata": {
        "colab": {
          "base_uri": "https://localhost:8080/"
        },
        "id": "LLN3M1H6zGqa",
        "outputId": "af8afda0-4bf5-4b18-8a32-e10f4de1e68e"
      },
      "execution_count": 13,
      "outputs": [
        {
          "output_type": "stream",
          "name": "stdout",
          "text": [
            "Production-based generative AI, also known as generative models or AI-generated content, refers to the use of artificial intelligence to generate new, unique, and often creative content, such as images, videos, music, text, or even entire conversations. While production-based generative AI has many potential benefits, it also comes with several challenges. Here are some of the key challenges:\n",
            "\n",
            "1. **Quality and Realism**: One of the biggest challenges is ensuring that the generated content is of high quality and realistic enough to be indistinguishable from human-created content.\n",
            "2. **Lack of Diversity**: Generative models can suffer from a lack of diversity in the generated content, leading to repetition and a limited range of ideas.\n",
            "3. **Bias and Fairness**: Generative models can perpetuate biases present in the training data, leading to unfair or discriminatory outcomes.\n",
            "4. **Evaluation and Metrics**: It can be challenging to evaluate the quality and effectiveness of generative models, as traditional metrics may not be applicable.\n",
            "5. **Data Quality and Availability**: Generative models require large amounts of high-quality training data, which can be difficult to obtain, especially in domains with limited data availability.\n",
            "6. **Computational Resources**: Training and deploying generative models require significant computational resources, including powerful GPUs and large storage capacities.\n",
            "7. **Explainability and Interpretability**: Generative models can be complex and difficult to understand, making it challenging to explain how they arrive at their generated content.\n",
            "8. **Adversarial Attacks**: Generative models can be vulnerable to adversarial attacks, which can manipulate the generated content or compromise the model's integrity.\n",
            "9. **Intellectual Property and Ownership**: There are concerns about who owns the rights to AI-generated content and how to protect intellectual property in this domain.\n",
            "10. **Regulation and Governance**: There is a need for regulation and governance frameworks to ensure that generative models are developed and used responsibly and ethically.\n",
            "11. **Human-AI Collaboration**: Integrating human and AI-generated content can be challenging, requiring effective collaboration and workflow management.\n",
            "12. **Scalability and Deployment**: Deploying generative models in production environments can be complex, requiring scalable infrastructure and efficient deployment strategies.\n",
            "13. **Training and Optimization**: Training generative models can be computationally expensive and require significant expertise in optimization techniques.\n",
            "14. **Mode Collapse**: Generative models can suffer from mode collapse, where the model generates limited variations of the same output, rather than exploring the full range of possibilities.\n",
            "15. **Evaluation of Creativity**: It is challenging to evaluate the creativity of generative models, as creativity is a complex and subjective concept.\n",
            "\n",
            "By understanding these challenges, researchers and developers can work to overcome them and unlock the full potential of production-based generative AI.\n"
          ]
        }
      ]
    },
    {
      "cell_type": "code",
      "source": [
        "messages = [\n",
        "    (\n",
        "        \"system\",\n",
        "        \"You are a helpful assistant that gives short and concise answers.\",\n",
        "    ),\n",
        "    (\"human\", \"Waht are the challenges of production based generative ai?\"),\n",
        "]\n",
        "ai_msg = llm.invoke(messages)\n",
        "ai_msg"
      ],
      "metadata": {
        "colab": {
          "base_uri": "https://localhost:8080/"
        },
        "id": "86oJmS55zGsa",
        "outputId": "98a0bf06-a582-46cd-e400-af8973e11d42"
      },
      "execution_count": 14,
      "outputs": [
        {
          "output_type": "execute_result",
          "data": {
            "text/plain": [
              "AIMessage(content='Some challenges of production-based generative AI include:\\n\\n1. **Mode collapse**: Generating limited variations of outputs.\\n2. **Lack of diversity**: Producing similar outputs repeatedly.\\n3. **Unrealistic outputs**: Generating unrealistic or nonsensical results.\\n4. **Evaluation metrics**: Difficulty in defining and measuring quality metrics.\\n5. **Training data quality**: Requiring high-quality, diverse, and representative training data.\\n6. **Scalability**: Training and deploying models on large datasets and infrastructure.\\n7. **Explainability**: Difficulty in understanding and interpreting generated outputs.\\n8. **Adversarial attacks**: Vulnerability to attacks that manipulate generated outputs.', additional_kwargs={}, response_metadata={'token_usage': {'completion_tokens': 135, 'prompt_tokens': 39, 'total_tokens': 174, 'completion_time': 0.385714286, 'prompt_time': 0.00448746, 'queue_time': 0.017477609999999998, 'total_time': 0.390201746}, 'model_name': 'llama3-70b-8192', 'system_fingerprint': 'fp_753a4aecf6', 'finish_reason': 'stop', 'logprobs': None}, id='run-1883e9da-f870-4681-be98-aed95cf6b1c0-0', usage_metadata={'input_tokens': 39, 'output_tokens': 135, 'total_tokens': 174})"
            ]
          },
          "metadata": {},
          "execution_count": 14
        }
      ]
    },
    {
      "cell_type": "code",
      "source": [
        "content = ai_msg.content"
      ],
      "metadata": {
        "id": "EUZQlBFS3AyE"
      },
      "execution_count": 15,
      "outputs": []
    },
    {
      "cell_type": "code",
      "source": [
        "print(content)"
      ],
      "metadata": {
        "colab": {
          "base_uri": "https://localhost:8080/"
        },
        "id": "KtMNmBhC3Wno",
        "outputId": "539fe100-877d-474d-c4dd-2c144435ec72"
      },
      "execution_count": 17,
      "outputs": [
        {
          "output_type": "stream",
          "name": "stdout",
          "text": [
            "Some challenges of production-based generative AI include:\n",
            "\n",
            "1. **Mode collapse**: Generating limited variations of outputs.\n",
            "2. **Lack of diversity**: Producing similar outputs repeatedly.\n",
            "3. **Unrealistic outputs**: Generating unrealistic or nonsensical results.\n",
            "4. **Evaluation metrics**: Difficulty in defining and measuring quality metrics.\n",
            "5. **Training data quality**: Requiring high-quality, diverse, and representative training data.\n",
            "6. **Scalability**: Training and deploying models on large datasets and infrastructure.\n",
            "7. **Explainability**: Difficulty in understanding and interpreting generated outputs.\n",
            "8. **Adversarial attacks**: Vulnerability to attacks that manipulate generated outputs.\n"
          ]
        }
      ]
    },
    {
      "cell_type": "code",
      "source": [
        "from IPython.display import HTML, display\n",
        "\n",
        "display(HTML(f\"{content}\"))"
      ],
      "metadata": {
        "colab": {
          "base_uri": "https://localhost:8080/",
          "height": 69
        },
        "id": "anE07L2Q2GW0",
        "outputId": "6e1ff149-9993-4a9d-ab49-159245c9c159"
      },
      "execution_count": 16,
      "outputs": [
        {
          "output_type": "display_data",
          "data": {
            "text/plain": [
              "<IPython.core.display.HTML object>"
            ],
            "text/html": [
              "Some challenges of production-based generative AI include:\n",
              "\n",
              "1. **Mode collapse**: Generating limited variations of outputs.\n",
              "2. **Lack of diversity**: Producing similar outputs repeatedly.\n",
              "3. **Unrealistic outputs**: Generating unrealistic or nonsensical results.\n",
              "4. **Evaluation metrics**: Difficulty in defining and measuring quality metrics.\n",
              "5. **Training data quality**: Requiring high-quality, diverse, and representative training data.\n",
              "6. **Scalability**: Training and deploying models on large datasets and infrastructure.\n",
              "7. **Explainability**: Difficulty in understanding and interpreting generated outputs.\n",
              "8. **Adversarial attacks**: Vulnerability to attacks that manipulate generated outputs."
            ]
          },
          "metadata": {}
        }
      ]
    },
    {
      "cell_type": "code",
      "source": [
        "def function1(input):\n",
        "  llm = ChatGroq(api_key = GROQ_API_KEY, model = \"llama3-70b-8192\")\n",
        "  response =  llm.invoke(input)\n",
        "  content = response.content\n",
        "  return content"
      ],
      "metadata": {
        "id": "5SEltn9BzGuu"
      },
      "execution_count": 18,
      "outputs": []
    },
    {
      "cell_type": "code",
      "source": [
        "def function2(input):\n",
        "  upper = input.upper()\n",
        "  return upper"
      ],
      "metadata": {
        "id": "go_YVfwD4QAg"
      },
      "execution_count": 19,
      "outputs": []
    },
    {
      "cell_type": "code",
      "source": [
        "workflow = Graph()"
      ],
      "metadata": {
        "id": "eqVpGQb04cZR"
      },
      "execution_count": 20,
      "outputs": []
    },
    {
      "cell_type": "code",
      "source": [
        "workflow.add_node(function1, \"function1\")\n",
        "workflow.add_node(function2, \"function2\")"
      ],
      "metadata": {
        "colab": {
          "base_uri": "https://localhost:8080/"
        },
        "id": "X5oDQBgD4keJ",
        "outputId": "894cf835-a6b7-4f73-c5a1-66a07cc88c71"
      },
      "execution_count": 22,
      "outputs": [
        {
          "output_type": "execute_result",
          "data": {
            "text/plain": [
              "<langgraph.graph.graph.Graph at 0x7dc0a71eb8b0>"
            ]
          },
          "metadata": {},
          "execution_count": 22
        }
      ]
    },
    {
      "cell_type": "code",
      "source": [
        "workflow.add_edge(\"function1\", \"function2\")"
      ],
      "metadata": {
        "colab": {
          "base_uri": "https://localhost:8080/"
        },
        "id": "IVH9ooro4oVp",
        "outputId": "51dbfe97-9671-407c-8a11-01f482190654"
      },
      "execution_count": 23,
      "outputs": [
        {
          "output_type": "execute_result",
          "data": {
            "text/plain": [
              "<langgraph.graph.graph.Graph at 0x7dc0a71eb8b0>"
            ]
          },
          "metadata": {},
          "execution_count": 23
        }
      ]
    },
    {
      "cell_type": "code",
      "source": [
        "workflow.set_entry_point(\"function1\")"
      ],
      "metadata": {
        "colab": {
          "base_uri": "https://localhost:8080/"
        },
        "id": "e42vLCr142iA",
        "outputId": "79ef4938-c720-4e35-a6c3-80eb7e7da3a3"
      },
      "execution_count": 24,
      "outputs": [
        {
          "output_type": "execute_result",
          "data": {
            "text/plain": [
              "<langgraph.graph.graph.Graph at 0x7dc0a71eb8b0>"
            ]
          },
          "metadata": {},
          "execution_count": 24
        }
      ]
    },
    {
      "cell_type": "code",
      "source": [
        "workflow.set_finish_point(\"function2\")"
      ],
      "metadata": {
        "colab": {
          "base_uri": "https://localhost:8080/"
        },
        "id": "ggIyjwVL49oA",
        "outputId": "e7f600ef-a777-4345-d060-37e5304d3b20"
      },
      "execution_count": 25,
      "outputs": [
        {
          "output_type": "execute_result",
          "data": {
            "text/plain": [
              "<langgraph.graph.graph.Graph at 0x7dc0a71eb8b0>"
            ]
          },
          "metadata": {},
          "execution_count": 25
        }
      ]
    },
    {
      "cell_type": "code",
      "source": [
        "app = workflow.compile()"
      ],
      "metadata": {
        "id": "wQ05x9Jc5DaO"
      },
      "execution_count": 26,
      "outputs": []
    },
    {
      "cell_type": "code",
      "source": [
        "from IPython.display import Image, display\n",
        "\n",
        "try:\n",
        "  display(Image(app.get_graph().draw_mermaid_png()))\n",
        "except Exception as e:\n",
        "  print(e)"
      ],
      "metadata": {
        "colab": {
          "base_uri": "https://localhost:8080/",
          "height": 350
        },
        "id": "fPOJQD2y5G2-",
        "outputId": "8af9d1e1-3e57-4526-a6ca-a9ee97fa8e48"
      },
      "execution_count": 28,
      "outputs": [
        {
          "output_type": "display_data",
          "data": {
            "image/png": "[encoded data removed]",
            "text/plain": [
              "<IPython.core.display.Image object>"
            ]
          },
          "metadata": {}
        }
      ]
    },
    {
      "cell_type": "code",
      "source": [
        "result = app.invoke(\"What is the challenges of production based generative ai?\")\n",
        "print(result)"
      ],
      "metadata": {
        "colab": {
          "base_uri": "https://localhost:8080/"
        },
        "id": "YorQFUwO6Bks",
        "outputId": "75140bc0-b448-4bb1-8f81-d327567a6918"
      },
      "execution_count": 30,
      "outputs": [
        {
          "output_type": "stream",
          "name": "stdout",
          "text": [
            "PRODUCTION-BASED GENERATIVE AI, ALSO KNOWN AS GENERATIVE MODELS OR GENERATIVE AI, REFERS TO AI SYSTEMS THAT CAN GENERATE NEW, ORIGINAL DATA OR CONTENT, SUCH AS IMAGES, VIDEOS, MUSIC, TEXT, OR SPEECH, THAT RESEMBLES EXISTING DATA. WHILE THESE MODELS HAVE SHOWN TREMENDOUS POTENTIAL, THERE ARE SEVERAL CHALLENGES ASSOCIATED WITH DEPLOYING THEM IN PRODUCTION ENVIRONMENTS. HERE ARE SOME OF THE KEY CHALLENGES:\n",
            "\n",
            "1. **QUALITY AND COHERENCE**: ENSURING THAT THE GENERATED CONTENT IS OF HIGH QUALITY, COHERENT, AND CONSISTENT WITH THE INPUT PROMPT OR CONTEXT IS A SIGNIFICANT CHALLENGE.\n",
            "2. **MODE COLLAPSE**: GENERATIVE MODELS OFTEN SUFFER FROM MODE COLLAPSE, WHERE THE GENERATED OUTPUT IS LIMITED TO A SMALL SUBSET OF POSSIBLE OUTCOMES, LACKING DIVERSITY AND NOVELTY.\n",
            "3. **LACK OF INTERPRETABILITY**: IT CAN BE DIFFICULT TO UNDERSTAND WHY A GENERATIVE MODEL IS PRODUCING CERTAIN OUTPUTS, MAKING IT CHALLENGING TO IDENTIFY AND CORRECT ERRORS OR BIASES.\n",
            "4. **TRAINING DATA QUALITY**: THE QUALITY OF THE TRAINING DATA HAS A SIGNIFICANT IMPACT ON THE PERFORMANCE OF GENERATIVE MODELS. POOR-QUALITY DATA CAN LEAD TO POOR-QUALITY GENERATED CONTENT.\n",
            "5. **SCALABILITY**: SCALING GENERATIVE MODELS TO HANDLE LARGE DATASETS, HIGH-DIMENSIONAL DATA, OR REAL-TIME GENERATION CAN BE COMPUTATIONALLY EXPENSIVE AND REQUIRE SIGNIFICANT RESOURCES.\n",
            "6. **ADVERSARIAL ATTACKS**: GENERATIVE MODELS CAN BE VULNERABLE TO ADVERSARIAL ATTACKS, WHICH CAN MANIPULATE THE INPUT DATA TO PRODUCE UNDESIRABLE OUTPUTS.\n",
            "7. **EVALUATION METRICS**: DEVELOPING EVALUATION METRICS THAT ACCURATELY ASSESS THE QUALITY AND EFFECTIVENESS OF GENERATIVE MODELS IS AN ONGOING CHALLENGE.\n",
            "8. **HUMAN-AI COLLABORATION**: INTEGRATING HUMAN FEEDBACK AND OVERSIGHT INTO THE GENERATIVE PROCESS CAN BE COMPLEX, ESPECIALLY IN REAL-TIME APPLICATIONS.\n",
            "9. **EXPLAINABILITY AND TRANSPARENCY**: PROVIDING EXPLANATIONS FOR THE GENERATED CONTENT AND ENSURING TRANSPARENCY IN THE DECISION-MAKING PROCESS IS ESSENTIAL FOR BUILDING TRUST IN GENERATIVE AI SYSTEMS.\n",
            "10. **BIAS AND FAIRNESS**: GENERATIVE MODELS CAN PERPETUATE BIASES PRESENT IN THE TRAINING DATA, LEADING TO UNFAIR OUTCOMES. MITIGATING THESE BIASES IS CRUCIAL FOR RESPONSIBLE AI DEVELOPMENT.\n",
            "11. **DATA PRIVACY AND SECURITY**: GENERATIVE MODELS CAN CREATE NEW PRIVACY AND SECURITY RISKS, SUCH AS GENERATING SENSITIVE INFORMATION OR MANIPULATING INDIVIDUALS.\n",
            "12. **REAL-TIME GENERATION**: GENERATING CONTENT IN REAL-TIME, WHILE MAINTAINING QUALITY AND COHERENCE, CAN BE CHALLENGING, ESPECIALLY IN APPLICATIONS LIKE VIDEO OR AUDIO GENERATION.\n",
            "13. **DOMAIN SHIFT**: GENERATIVE MODELS MAY NOT GENERALIZE WELL TO NEW, UNSEEN DOMAINS OR DATASETS, REQUIRING ADDITIONAL TRAINING DATA AND ADAPTATION.\n",
            "14. **HUMAN EVALUATION**: EVALUATING THE QUALITY OF GENERATED CONTENT OFTEN REQUIRES HUMAN EVALUATION, WHICH CAN BE TIME-CONSUMING AND EXPENSIVE.\n",
            "15. **LEGAL AND ETHICAL CONSIDERATIONS**: GENERATIVE AI RAISES LEGAL AND ETHICAL CONCERNS, SUCH AS OWNERSHIP AND COPYRIGHT ISSUES, THAT NEED TO BE ADDRESSED.\n",
            "\n",
            "BY ACKNOWLEDGING AND ADDRESSING THESE CHALLENGES, RESEARCHERS AND DEVELOPERS CAN WORK TOWARDS CREATING MORE ROBUST, RELIABLE, AND RESPONSIBLE PRODUCTION-BASED GENERATIVE AI SYSTEMS.\n"
          ]
        }
      ]
    },
    {
      "cell_type": "code",
      "source": [],
      "metadata": {
        "id": "f4gVwJ-O6IwE"
      },
      "execution_count": null,
      "outputs": []
    }
  ]
}